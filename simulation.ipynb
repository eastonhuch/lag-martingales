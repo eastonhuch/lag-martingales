{
 "cells": [
  {
   "cell_type": "code",
   "execution_count": 1,
   "id": "37766052-95ed-4153-a0f8-288ec3135fd7",
   "metadata": {},
   "outputs": [],
   "source": [
    "import numpy as np\n",
    "import multiprocessing as mp\n",
    "from scipy.stats import norm, normaltest\n",
    "from tqdm import tqdm\n",
    "import matplotlib.pyplot as plt\n",
    "import seaborn as sns\n",
    "from simulate import simulate_job\n",
    "from config_plt import config_plt, get_fig_ax, save_my_fig"
   ]
  },
  {
   "cell_type": "code",
   "execution_count": null,
   "id": "b37a3513-8b5f-4493-aacd-94f539579553",
   "metadata": {},
   "outputs": [
    {
     "name": "stderr",
     "output_type": "stream",
     "text": [
      "  1%|█▏                                                                             | 145/10000 [00:03<03:26, 47.83it/s]"
     ]
    }
   ],
   "source": [
    "mp.set_start_method(\"spawn\", force=True)\n",
    "T = 10_000\n",
    "n_reps = 10_000\n",
    "a_target = 100\n",
    "n_jobs = 4\n",
    "ss = np.random.SeedSequence(1)\n",
    "child_ss = ss.spawn(n_reps)\n",
    "seeds = [int(s.generate_state(1)[0]) for s in child_ss]\n",
    "args = [(seed, T, a_target) for seed in seeds]\n",
    "with mp.Pool(processes=n_jobs) as pool:\n",
    "    results = list(tqdm(pool.imap_unordered(simulate_job, args, chunksize=1), total=n_reps))"
   ]
  },
  {
   "cell_type": "code",
   "execution_count": null,
   "id": "07a6fe70-447e-425e-83ac-9171acde4513",
   "metadata": {},
   "outputs": [],
   "source": [
    "zs = np.asarray([r[0] for r in results])\n",
    "us = np.asarray([r[1] for r in results])\n",
    "psis = np.asarray([r[2] for r in results])\n",
    "tauhats = np.asarray([r[3] for r in results])\n",
    "taus = np.asarray([r[4] for r in results])\n",
    "equal_groups = np.asarray([r[5] for r in results])\n",
    "t_targets = np.asarray([r[6] for r in results])"
   ]
  },
  {
   "cell_type": "code",
   "execution_count": null,
   "id": "a0b771b3-adc6-4d14-bd4a-5ab8f6256f5c",
   "metadata": {},
   "outputs": [],
   "source": [
    "psis_equal = psis[equal_groups]\n",
    "psis_equal_mean = np.mean(psis_equal)\n",
    "print(psis_equal_mean)\n",
    "psis_unequal = psis[~equal_groups]\n",
    "psis_unequal_mean = np.mean(psis_unequal)\n",
    "print(psis_unequal_mean)"
   ]
  },
  {
   "cell_type": "code",
   "execution_count": null,
   "id": "4d675d10-d054-40b0-b41c-3d7e4eae640d",
   "metadata": {},
   "outputs": [],
   "source": [
    "print(normaltest(zs))\n",
    "fig, ax = get_fig_ax()\n",
    "ax = sns.kdeplot(zs, ax=ax, bw_method=0.2, label=\"KDE\")\n",
    "zs_vals = np.linspace(-5, 5, 1000)\n",
    "ax.plot(zs_vals, norm.pdf(zs_vals), label=\"N(0, 1)\")\n",
    "ax.set_xlabel(\"Z\")\n",
    "ax.legend()\n",
    "save_my_fig(fig, \"z\")"
   ]
  },
  {
   "cell_type": "code",
   "execution_count": null,
   "id": "3ddd8cc4-5261-446b-adb8-f7bd992280ed",
   "metadata": {},
   "outputs": [],
   "source": [
    "us_std = us / np.std(us)\n",
    "print(normaltest(us_std))\n",
    "fig, ax = get_fig_ax()\n",
    "ax = sns.kdeplot(us_std, bw_method=0.2, ax=ax, label=\"KDE\")\n",
    "zs_vals = np.linspace(-5, 5, 1000)\n",
    "ax.plot(zs_vals, norm.pdf(zs_vals), label=\"N(0, 1)\")\n",
    "ax.set_xlabel(\"U\")\n",
    "ax.legend()\n",
    "save_my_fig(fig, \"u\")"
   ]
  },
  {
   "cell_type": "code",
   "execution_count": null,
   "id": "33c89a17-d872-4e67-a0c8-59125015e9d3",
   "metadata": {},
   "outputs": [],
   "source": [
    "plt.hist(t_targets)"
   ]
  },
  {
   "cell_type": "code",
   "execution_count": null,
   "id": "c2101c57-4ecc-4a17-b5a8-7da5f7ca718e",
   "metadata": {},
   "outputs": [],
   "source": [
    "plt.hist(tauhats)"
   ]
  },
  {
   "cell_type": "code",
   "execution_count": null,
   "id": "e18df9e2-abfb-4819-ba59-6525b0c3a0e8",
   "metadata": {},
   "outputs": [],
   "source": [
    "plt.hist(taus)"
   ]
  },
  {
   "cell_type": "code",
   "execution_count": null,
   "id": "300c63c1-d067-45b1-a2b5-ac86eb243cd6",
   "metadata": {},
   "outputs": [],
   "source": []
  }
 ],
 "metadata": {
  "kernelspec": {
   "display_name": "Python 3 (ipykernel)",
   "language": "python",
   "name": "python3"
  },
  "language_info": {
   "codemirror_mode": {
    "name": "ipython",
    "version": 3
   },
   "file_extension": ".py",
   "mimetype": "text/x-python",
   "name": "python",
   "nbconvert_exporter": "python",
   "pygments_lexer": "ipython3",
   "version": "3.12.11"
  }
 },
 "nbformat": 4,
 "nbformat_minor": 5
}
